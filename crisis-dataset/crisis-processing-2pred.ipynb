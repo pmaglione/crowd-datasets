{
 "cells": [
  {
   "cell_type": "markdown",
   "metadata": {},
   "source": [
    "# Crisis-data-processing"
   ]
  },
  {
   "cell_type": "code",
   "execution_count": 14,
   "metadata": {},
   "outputs": [],
   "source": [
    "import re\n",
    "import numpy as np\n",
    "import pandas as pd"
   ]
  },
  {
   "cell_type": "code",
   "execution_count": 15,
   "metadata": {},
   "outputs": [],
   "source": [
    "df_gt = pd.read_csv('data/data-gold.csv')\n",
    "df_gt = df_gt[df_gt['_golden'] == False]"
   ]
  },
  {
   "cell_type": "code",
   "execution_count": 16,
   "metadata": {},
   "outputs": [
    {
     "data": {
      "text/html": [
       "<div>\n",
       "<style scoped>\n",
       "    .dataframe tbody tr th:only-of-type {\n",
       "        vertical-align: middle;\n",
       "    }\n",
       "\n",
       "    .dataframe tbody tr th {\n",
       "        vertical-align: top;\n",
       "    }\n",
       "\n",
       "    .dataframe thead th {\n",
       "        text-align: right;\n",
       "    }\n",
       "</style>\n",
       "<table border=\"1\" class=\"dataframe\">\n",
       "  <thead>\n",
       "    <tr style=\"text-align: right;\">\n",
       "      <th></th>\n",
       "      <th>_unit_id</th>\n",
       "      <th>_golden</th>\n",
       "      <th>_unit_state</th>\n",
       "      <th>_trusted_judgments</th>\n",
       "      <th>_last_judgment_at</th>\n",
       "      <th>the_author_of_the_tweet_seems_to_be_an_eye_witness_of_the_event</th>\n",
       "      <th>the_author_of_the_tweet_seems_to_be_an_eye_witness_of_the_event:confidence</th>\n",
       "      <th>type_of_message</th>\n",
       "      <th>type_of_message:confidence</th>\n",
       "      <th>nil</th>\n",
       "      <th>the_author_of_the_tweet_seems_to_be_an_eye_witness_of_the_event_gold</th>\n",
       "      <th>tweet</th>\n",
       "      <th>tweet_no</th>\n",
       "      <th>tweet_no_rt</th>\n",
       "      <th>type_of_message_gold</th>\n",
       "      <th>user</th>\n",
       "    </tr>\n",
       "  </thead>\n",
       "  <tbody>\n",
       "    <tr>\n",
       "      <th>0</th>\n",
       "      <td>238841781</td>\n",
       "      <td>False</td>\n",
       "      <td>finalized</td>\n",
       "      <td>4</td>\n",
       "      <td>1/2/2013 13:37:11</td>\n",
       "      <td>NaN</td>\n",
       "      <td>NaN</td>\n",
       "      <td>Informative: offers/gives donations of money, ...</td>\n",
       "      <td>0.2689</td>\n",
       "      <td>NaN</td>\n",
       "      <td>NaN</td>\n",
       "      <td>important --&amp;gt; @JebBush suggests federal gov...</td>\n",
       "      <td>11899</td>\n",
       "      <td>important --&amp;gt; @JebBush suggests federal gov...</td>\n",
       "      <td>NaN</td>\n",
       "      <td>danholler</td>\n",
       "    </tr>\n",
       "    <tr>\n",
       "      <th>1</th>\n",
       "      <td>238841782</td>\n",
       "      <td>False</td>\n",
       "      <td>finalized</td>\n",
       "      <td>4</td>\n",
       "      <td>12/24/2012 14:05:56</td>\n",
       "      <td>True</td>\n",
       "      <td>1.0</td>\n",
       "      <td>Not informative: personal only</td>\n",
       "      <td>0.7772</td>\n",
       "      <td>NaN</td>\n",
       "      <td>NaN</td>\n",
       "      <td>@ChrisMara816: Screw #sandy we skipped right a...</td>\n",
       "      <td>116293</td>\n",
       "      <td>@ChrisMara816: Screw #sandy we skipped right a...</td>\n",
       "      <td>NaN</td>\n",
       "      <td>kaatteexo</td>\n",
       "    </tr>\n",
       "    <tr>\n",
       "      <th>2</th>\n",
       "      <td>238841783</td>\n",
       "      <td>False</td>\n",
       "      <td>finalized</td>\n",
       "      <td>4</td>\n",
       "      <td>12/24/2012 14:05:56</td>\n",
       "      <td>True</td>\n",
       "      <td>1.0</td>\n",
       "      <td>Informative: information source with extensive...</td>\n",
       "      <td>0.2554</td>\n",
       "      <td>NaN</td>\n",
       "      <td>NaN</td>\n",
       "      <td>On The Learning Network Sandy as a Teaching To...</td>\n",
       "      <td>1091</td>\n",
       "      <td>On The Learning Network Sandy as a Teaching To...</td>\n",
       "      <td>NaN</td>\n",
       "      <td>LotsToLearn</td>\n",
       "    </tr>\n",
       "  </tbody>\n",
       "</table>\n",
       "</div>"
      ],
      "text/plain": [
       "    _unit_id  _golden _unit_state  _trusted_judgments    _last_judgment_at  \\\n",
       "0  238841781    False   finalized                   4    1/2/2013 13:37:11   \n",
       "1  238841782    False   finalized                   4  12/24/2012 14:05:56   \n",
       "2  238841783    False   finalized                   4  12/24/2012 14:05:56   \n",
       "\n",
       "  the_author_of_the_tweet_seems_to_be_an_eye_witness_of_the_event  \\\n",
       "0                                                NaN                \n",
       "1                                               True                \n",
       "2                                               True                \n",
       "\n",
       "   the_author_of_the_tweet_seems_to_be_an_eye_witness_of_the_event:confidence  \\\n",
       "0                                                NaN                            \n",
       "1                                                1.0                            \n",
       "2                                                1.0                            \n",
       "\n",
       "                                     type_of_message  \\\n",
       "0  Informative: offers/gives donations of money, ...   \n",
       "1                     Not informative: personal only   \n",
       "2  Informative: information source with extensive...   \n",
       "\n",
       "   type_of_message:confidence  nil  \\\n",
       "0                      0.2689  NaN   \n",
       "1                      0.7772  NaN   \n",
       "2                      0.2554  NaN   \n",
       "\n",
       "  the_author_of_the_tweet_seems_to_be_an_eye_witness_of_the_event_gold  \\\n",
       "0                                                NaN                     \n",
       "1                                                NaN                     \n",
       "2                                                NaN                     \n",
       "\n",
       "                                               tweet  tweet_no  \\\n",
       "0  important --&gt; @JebBush suggests federal gov...     11899   \n",
       "1  @ChrisMara816: Screw #sandy we skipped right a...    116293   \n",
       "2  On The Learning Network Sandy as a Teaching To...      1091   \n",
       "\n",
       "                                         tweet_no_rt type_of_message_gold  \\\n",
       "0  important --&gt; @JebBush suggests federal gov...                  NaN   \n",
       "1  @ChrisMara816: Screw #sandy we skipped right a...                  NaN   \n",
       "2  On The Learning Network Sandy as a Teaching To...                  NaN   \n",
       "\n",
       "          user  \n",
       "0    danholler  \n",
       "1    kaatteexo  \n",
       "2  LotsToLearn  "
      ]
     },
     "execution_count": 16,
     "metadata": {},
     "output_type": "execute_result"
    }
   ],
   "source": [
    "df_gt.head(3)"
   ]
  },
  {
   "cell_type": "markdown",
   "metadata": {},
   "source": [
    "### Selectivity of categories"
   ]
  },
  {
   "cell_type": "code",
   "execution_count": 17,
   "metadata": {},
   "outputs": [
    {
     "name": "stdout",
     "output_type": "stream",
     "text": [
      "Not informative: personal only                                                        0.374356\n",
      "Can not judge (not in English, too short, etc.)                                       0.126674\n",
      "Informative: damage (building, road, lines, etc.)                                     0.109681\n",
      "Informative: caution or advice                                                        0.064882\n",
      "Informative: other type of photos/videos (not in the above classes)                   0.063852\n",
      "Informative: information source with extensive coverage (radio, tv, website, etc.)    0.063337\n",
      "Informative: other                                                                    0.059732\n",
      "Not informative: unrelated to the disaster                                            0.043769\n",
      "Informative: offers/gives donations of money, goods, or free services                 0.027291\n",
      "Informative: requests donations of money, goods, or free services                     0.024717\n",
      "Informative: celebrities or authorities react to the event or visit the area          0.022142\n",
      "Informative: casualties (people injured or dead)                                      0.018538\n",
      "Informative: people missing, or lost people found                                     0.001030\n",
      "Name: type_of_message, dtype: float64\n",
      "------------------------------------\n",
      "the_author_of_the_tweet_seems_to_be_an_eye_witness_of_the_event:      0.1791967044284243\n"
     ]
    }
   ],
   "source": [
    "print(df_gt['type_of_message'].value_counts()/len(df_gt))\n",
    "print('------------------------------------')\n",
    "print('the_author_of_the_tweet_seems_to_be_an_eye_witness_of_the_event:      {}'.format(len(df_gt[(df_gt['the_author_of_the_tweet_seems_to_be_an_eye_witness_of_the_event'] == True)]) / len(df_gt)))"
   ]
  },
  {
   "cell_type": "markdown",
   "metadata": {},
   "source": [
    "### % of IN tweets for (3 predicates):\n",
    "author_is_eye_witness_of_the_event ^ Informative ^ damage (building, road, lines, etc.) = 3%"
   ]
  },
  {
   "cell_type": "code",
   "execution_count": 18,
   "metadata": {},
   "outputs": [
    {
     "data": {
      "text/plain": [
       "0.03038105046343975"
      ]
     },
     "execution_count": 18,
     "metadata": {},
     "output_type": "execute_result"
    }
   ],
   "source": [
    "df_relevant = df_gt[(df_gt['the_author_of_the_tweet_seems_to_be_an_eye_witness_of_the_event'] == True) & (\n",
    "    df_gt['type_of_message'] == 'Informative: damage (building, road, lines, etc.)')]\n",
    "\n",
    "len(df_relevant) / len(df_gt)"
   ]
  },
  {
   "cell_type": "markdown",
   "metadata": {},
   "source": [
    "### % of IN tweets for (3 predicates):\n",
    "not author_is_eye_witness_of_the_event ^ Informative ^ damage (building, road, lines, etc.) = 8%"
   ]
  },
  {
   "cell_type": "code",
   "execution_count": 19,
   "metadata": {},
   "outputs": [
    {
     "data": {
      "text/plain": [
       "0.07929969104016478"
      ]
     },
     "execution_count": 19,
     "metadata": {},
     "output_type": "execute_result"
    }
   ],
   "source": [
    "df_relevant = df_gt[(df_gt['the_author_of_the_tweet_seems_to_be_an_eye_witness_of_the_event'] != True) & (\n",
    "    df_gt['type_of_message'] == 'Informative: damage (building, road, lines, etc.)')]\n",
    "\n",
    "len(df_relevant) / len(df_gt)"
   ]
  },
  {
   "cell_type": "markdown",
   "metadata": {},
   "source": [
    "### % of IN tweets for (2 predicates):\n",
    "not author_is_eye_witness_of_the_event ^ Informative = 37%"
   ]
  },
  {
   "cell_type": "code",
   "execution_count": 20,
   "metadata": {},
   "outputs": [
    {
     "data": {
      "text/plain": [
       "0.3717816683831102"
      ]
     },
     "execution_count": 20,
     "metadata": {},
     "output_type": "execute_result"
    }
   ],
   "source": [
    "df_relevant = df_gt[(df_gt['the_author_of_the_tweet_seems_to_be_an_eye_witness_of_the_event'] != True) & (\n",
    "    df_gt['type_of_message'].str.startswith('Informative:'))]\n",
    "\n",
    "len(df_relevant) / len(df_gt)"
   ]
  },
  {
   "cell_type": "markdown",
   "metadata": {},
   "source": [
    "# Crisis-data transformation"
   ]
  },
  {
   "cell_type": "code",
   "execution_count": 21,
   "metadata": {},
   "outputs": [
    {
     "data": {
      "text/html": [
       "<div>\n",
       "<style scoped>\n",
       "    .dataframe tbody tr th:only-of-type {\n",
       "        vertical-align: middle;\n",
       "    }\n",
       "\n",
       "    .dataframe tbody tr th {\n",
       "        vertical-align: top;\n",
       "    }\n",
       "\n",
       "    .dataframe thead th {\n",
       "        text-align: right;\n",
       "    }\n",
       "</style>\n",
       "<table border=\"1\" class=\"dataframe\">\n",
       "  <thead>\n",
       "    <tr style=\"text-align: right;\">\n",
       "      <th></th>\n",
       "      <th>_unit_id</th>\n",
       "      <th>_created_at</th>\n",
       "      <th>_golden</th>\n",
       "      <th>_id</th>\n",
       "      <th>_missed</th>\n",
       "      <th>_started_at</th>\n",
       "      <th>_tainted</th>\n",
       "      <th>_channel</th>\n",
       "      <th>_trust</th>\n",
       "      <th>_worker_id</th>\n",
       "      <th>...</th>\n",
       "      <th>_ip</th>\n",
       "      <th>the_author_of_the_tweet_seems_to_be_an_eye_witness_of_the_event</th>\n",
       "      <th>type_of_message</th>\n",
       "      <th>nil</th>\n",
       "      <th>the_author_of_the_tweet_seems_to_be_an_eye_witness_of_the_event_gold</th>\n",
       "      <th>tweet</th>\n",
       "      <th>tweet_no</th>\n",
       "      <th>tweet_no_rt</th>\n",
       "      <th>type_of_message_gold</th>\n",
       "      <th>user</th>\n",
       "    </tr>\n",
       "  </thead>\n",
       "  <tbody>\n",
       "    <tr>\n",
       "      <th>0</th>\n",
       "      <td>238841781</td>\n",
       "      <td>12/24/2012 13:41:45</td>\n",
       "      <td>False</td>\n",
       "      <td>787060207</td>\n",
       "      <td>NaN</td>\n",
       "      <td>12/24/2012 13:37:36</td>\n",
       "      <td>False</td>\n",
       "      <td>instagc</td>\n",
       "      <td>0.7333</td>\n",
       "      <td>14425455</td>\n",
       "      <td>...</td>\n",
       "      <td>69.136.129.135</td>\n",
       "      <td>NaN</td>\n",
       "      <td>Informative: other</td>\n",
       "      <td>NaN</td>\n",
       "      <td>NaN</td>\n",
       "      <td>important --&amp;gt; @JebBush suggests federal gov...</td>\n",
       "      <td>11899</td>\n",
       "      <td>important --&amp;gt; @JebBush suggests federal gov...</td>\n",
       "      <td>NaN</td>\n",
       "      <td>danholler</td>\n",
       "    </tr>\n",
       "    <tr>\n",
       "      <th>1</th>\n",
       "      <td>238841781</td>\n",
       "      <td>12/24/2012 13:44:17</td>\n",
       "      <td>False</td>\n",
       "      <td>787063467</td>\n",
       "      <td>NaN</td>\n",
       "      <td>12/24/2012 13:39:45</td>\n",
       "      <td>False</td>\n",
       "      <td>instagc</td>\n",
       "      <td>0.8333</td>\n",
       "      <td>13441146</td>\n",
       "      <td>...</td>\n",
       "      <td>98.18.108.46</td>\n",
       "      <td>NaN</td>\n",
       "      <td>Informative: offers/gives donations of money, ...</td>\n",
       "      <td>NaN</td>\n",
       "      <td>NaN</td>\n",
       "      <td>important --&amp;gt; @JebBush suggests federal gov...</td>\n",
       "      <td>11899</td>\n",
       "      <td>important --&amp;gt; @JebBush suggests federal gov...</td>\n",
       "      <td>NaN</td>\n",
       "      <td>danholler</td>\n",
       "    </tr>\n",
       "    <tr>\n",
       "      <th>2</th>\n",
       "      <td>238841781</td>\n",
       "      <td>12/24/2012 13:54:14</td>\n",
       "      <td>False</td>\n",
       "      <td>787076220</td>\n",
       "      <td>NaN</td>\n",
       "      <td>12/24/2012 13:51:24</td>\n",
       "      <td>False</td>\n",
       "      <td>golddiggergpt</td>\n",
       "      <td>0.8182</td>\n",
       "      <td>11092052</td>\n",
       "      <td>...</td>\n",
       "      <td>108.92.226.94</td>\n",
       "      <td>NaN</td>\n",
       "      <td>Informative: celebrities or authorities react ...</td>\n",
       "      <td>NaN</td>\n",
       "      <td>NaN</td>\n",
       "      <td>important --&amp;gt; @JebBush suggests federal gov...</td>\n",
       "      <td>11899</td>\n",
       "      <td>important --&amp;gt; @JebBush suggests federal gov...</td>\n",
       "      <td>NaN</td>\n",
       "      <td>danholler</td>\n",
       "    </tr>\n",
       "  </tbody>\n",
       "</table>\n",
       "<p>3 rows × 23 columns</p>\n",
       "</div>"
      ],
      "text/plain": [
       "    _unit_id          _created_at  _golden        _id _missed  \\\n",
       "0  238841781  12/24/2012 13:41:45    False  787060207     NaN   \n",
       "1  238841781  12/24/2012 13:44:17    False  787063467     NaN   \n",
       "2  238841781  12/24/2012 13:54:14    False  787076220     NaN   \n",
       "\n",
       "           _started_at  _tainted       _channel  _trust  _worker_id  \\\n",
       "0  12/24/2012 13:37:36     False        instagc  0.7333    14425455   \n",
       "1  12/24/2012 13:39:45     False        instagc  0.8333    13441146   \n",
       "2  12/24/2012 13:51:24     False  golddiggergpt  0.8182    11092052   \n",
       "\n",
       "     ...                 _ip  \\\n",
       "0    ...      69.136.129.135   \n",
       "1    ...        98.18.108.46   \n",
       "2    ...       108.92.226.94   \n",
       "\n",
       "  the_author_of_the_tweet_seems_to_be_an_eye_witness_of_the_event  \\\n",
       "0                                                NaN                \n",
       "1                                                NaN                \n",
       "2                                                NaN                \n",
       "\n",
       "                                     type_of_message  nil  \\\n",
       "0                                 Informative: other  NaN   \n",
       "1  Informative: offers/gives donations of money, ...  NaN   \n",
       "2  Informative: celebrities or authorities react ...  NaN   \n",
       "\n",
       "  the_author_of_the_tweet_seems_to_be_an_eye_witness_of_the_event_gold  \\\n",
       "0                                                NaN                     \n",
       "1                                                NaN                     \n",
       "2                                                NaN                     \n",
       "\n",
       "                                               tweet tweet_no  \\\n",
       "0  important --&gt; @JebBush suggests federal gov...    11899   \n",
       "1  important --&gt; @JebBush suggests federal gov...    11899   \n",
       "2  important --&gt; @JebBush suggests federal gov...    11899   \n",
       "\n",
       "                                         tweet_no_rt type_of_message_gold  \\\n",
       "0  important --&gt; @JebBush suggests federal gov...                  NaN   \n",
       "1  important --&gt; @JebBush suggests federal gov...                  NaN   \n",
       "2  important --&gt; @JebBush suggests federal gov...                  NaN   \n",
       "\n",
       "        user  \n",
       "0  danholler  \n",
       "1  danholler  \n",
       "2  danholler  \n",
       "\n",
       "[3 rows x 23 columns]"
      ]
     },
     "execution_count": 21,
     "metadata": {},
     "output_type": "execute_result"
    }
   ],
   "source": [
    "df = pd.read_csv('data/data-crowdsourced.csv')\n",
    "df = df[df['_golden'] == False]\n",
    "df.head(3)"
   ]
  },
  {
   "cell_type": "markdown",
   "metadata": {},
   "source": [
    "# Transform data"
   ]
  },
  {
   "cell_type": "markdown",
   "metadata": {},
   "source": [
    "### not author_is_eye_witness_of_the_event ^ Informative = 37%"
   ]
  },
  {
   "cell_type": "code",
   "execution_count": 22,
   "metadata": {},
   "outputs": [],
   "source": [
    "# eye_witness\n",
    "# the_author_of_the_tweet_seems_to_be_an_eye_witness_of_the_event\n",
    "data = []\n",
    "item_id = 0\n",
    "## Compute workers' accuracy\n",
    "informative_true_votes = 0\n",
    "not_eye_witness_true_votes = 0\n",
    "for unit_id in df_gt['_unit_id'].unique():\n",
    "    item_df = df[df['_unit_id'] == unit_id]\n",
    "    not_eye_witness_in = not_eye_witness_out = 0\n",
    "    informative_in = informative_out = 0\n",
    "    y_in = y_out = 0\n",
    "    \n",
    "    gt_witness = df_gt[df_gt['_unit_id']==unit_id]['the_author_of_the_tweet_seems_to_be_an_eye_witness_of_the_event'].values[0] == True\n",
    "    gt_inf = 'Informative' in df_gt[df_gt['_unit_id']==unit_id]['type_of_message'].values[0]\n",
    "    y = 1 if gt_witness and gt_inf else 0\n",
    "    for row_id, row in item_df.iterrows():\n",
    "        ## Compute workers' accuracy\n",
    "        if (row['the_author_of_the_tweet_seems_to_be_an_eye_witness_of_the_event'] == True) == gt_witness:\n",
    "            not_eye_witness_true_votes += 1\n",
    "        if ('Informative' in row['type_of_message']) == gt_inf:\n",
    "            informative_true_votes += 1\n",
    "        \n",
    "        if row['the_author_of_the_tweet_seems_to_be_an_eye_witness_of_the_event'] == True:\n",
    "            not_eye_witness_out += 1\n",
    "        else:\n",
    "            not_eye_witness_in += 1\n",
    "        if 'Informative' in row['type_of_message']:\n",
    "            informative_in += 1\n",
    "        else:\n",
    "            informative_out += 1\n",
    "        if row['the_author_of_the_tweet_seems_to_be_an_eye_witness_of_the_event'] != True and 'Informative' in row['type_of_message']:\n",
    "            y_in += 1\n",
    "        else:\n",
    "            y_out +=1\n",
    "    text = df_gt[df_gt['_unit_id'] == unit_id]['tweet'].values[0]\n",
    "    data.append([item_id, not_eye_witness_in, not_eye_witness_out, informative_in, informative_out,\n",
    "                y_in, y_out, y, text])\n",
    "    item_id += 1\n",
    "df_tr = pd.DataFrame(data, columns=['item_id', 'not_eye_witness_in', 'not_eye_witness_out', 'informative_in', 'informative_out',\n",
    "                'y_in', 'y_out', 'y', 'text'])\n",
    "\n",
    "# df_tr.to_csv('data/crisis_transformed_notwitness_inf.csv', index=False)"
   ]
  },
  {
   "cell_type": "code",
   "execution_count": 23,
   "metadata": {},
   "outputs": [
    {
     "name": "stdout",
     "output_type": "stream",
     "text": [
      "Crowd Accuracy on 'informative' pred: 0.855\n",
      "Crowd Accuracy on 'not witness' pred: 0.8741666666666666\n"
     ]
    }
   ],
   "source": [
    "print(\"Crowd Accuracy on 'informative' pred: {}\".format(informative_true_votes / len(df)))\n",
    "print(\"Crowd Accuracy on 'not witness' pred: {}\".format(not_eye_witness_true_votes / len(df)))"
   ]
  },
  {
   "cell_type": "markdown",
   "metadata": {},
   "source": [
    "### Stemming, Lemmatising and cleaning text"
   ]
  },
  {
   "cell_type": "code",
   "execution_count": 32,
   "metadata": {},
   "outputs": [
    {
     "name": "stderr",
     "output_type": "stream",
     "text": [
      "/anaconda3/lib/python3.6/site-packages/gensim/models/phrases.py:486: UserWarning: For a faster implementation, use the gensim.models.phrases.Phraser class\n",
      "  warnings.warn(\"For a faster implementation, use the gensim.models.phrases.Phraser class\")\n"
     ]
    }
   ],
   "source": [
    "from gensim.models import Phrases\n",
    "from nltk.corpus import stopwords\n",
    "from nltk.stem.porter import PorterStemmer\n",
    "from nltk.stem import WordNetLemmatizer\n",
    "import nltk\n",
    "import string\n",
    "import re\n",
    "from collections import Counter\n",
    "\n",
    "text_cleaned = []\n",
    "\n",
    "df = pd.read_csv('data/crisis_transformed_notwitness_inf.csv')\n",
    "\n",
    "# Replace all numbers with special strings\n",
    "regx = re.compile(r\"\\b[\\d.]+\\b\")\n",
    "porter = PorterStemmer()\n",
    "wordnet_lemmatizer = WordNetLemmatizer()\n",
    "\n",
    "for _, row in df.iterrows():\n",
    "    text = row['text']\n",
    "#     with stemming\n",
    "#     text = [porter.stem(word.strip()) for word in nltk.word_tokenize(text.lower()) if (word not in string.punctuation) and (word not in stopwords.words(\"english\"))]\n",
    "    \n",
    "#     # without stemming\n",
    "#     text = [word.strip() for word in nltk.word_tokenize(text.lower()) if (word not in string.punctuation) and (word not in stopwords.words(\"english\"))]\n",
    "    \n",
    "#     # with lemmatizer\n",
    "    text = [wordnet_lemmatizer.lemmatize(word.strip()) for word in nltk.word_tokenize(text.lower()) if (word not in string.punctuation) and (word not in stopwords.words(\"english\"))]\n",
    "         \n",
    "    text_cleaned.append(text)\n",
    "    \n",
    "# Findining Phrases (ie bi-grams)\n",
    "# train bi-grams\n",
    "bigram = Phrases()\n",
    "bigram.add_vocab(text_cleaned)\n",
    "\n",
    "# create phrases\n",
    "text_cleaned_phrases = []\n",
    "for text_ in text_cleaned:\n",
    "    text_cleaned_phrases.append(bigram[text_])\n",
    "\n",
    "text_cleaned_phrases_joined = [' '.join(text) for text in text_cleaned_phrases]\n",
    "df['text'] = pd.Series(text_cleaned_phrases_joined, index=df.index)\n",
    "df['text'] = df['text'].apply(lambda elem: re.sub(r\"(@[A-Za-z0-9]+)|([^0-9A-Za-z \\t])|(\\w+:\\/\\/\\S+)|^rt|http.+?\", \"\", elem)) \n",
    "\n",
    "# df.to_csv('data/crisis-lemmatized_notwitness_inf.csv', index=False)"
   ]
  },
  {
   "cell_type": "code",
   "execution_count": null,
   "metadata": {},
   "outputs": [],
   "source": []
  }
 ],
 "metadata": {
  "kernelspec": {
   "display_name": "Python 3",
   "language": "python",
   "name": "python3"
  },
  "language_info": {
   "codemirror_mode": {
    "name": "ipython",
    "version": 3
   },
   "file_extension": ".py",
   "mimetype": "text/x-python",
   "name": "python",
   "nbconvert_exporter": "python",
   "pygments_lexer": "ipython3",
   "version": "3.6.4"
  }
 },
 "nbformat": 4,
 "nbformat_minor": 2
}
