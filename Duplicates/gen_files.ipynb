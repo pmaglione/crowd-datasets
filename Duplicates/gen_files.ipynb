{
 "cells": [
  {
   "cell_type": "code",
   "execution_count": 53,
   "metadata": {},
   "outputs": [],
   "source": [
    "import pandas as pd\n",
    "import sqlalchemy as sql\n",
    "\n",
    "def export_to_csv(table):\n",
    "    connect_string = 'sqlite:///%s' % 'duplicates.db'\n",
    "    sql_engine = sql.create_engine(connect_string)\n",
    "    query =query = \"select * from assignments\"\n",
    "    df = pd.read_sql_query(query, sql_engine)\n",
    "    df.to_csv(f'csv/{table}.csv', index=False)\n",
    "\n",
    "tables = ['users', 'assignments', 'pairs']\n",
    "\n",
    "for table in tables:\n",
    "    export_to_csv(table)"
   ]
  }
 ],
 "metadata": {
  "kernelspec": {
   "display_name": "Python 3",
   "language": "python",
   "name": "python3"
  },
  "language_info": {
   "codemirror_mode": {
    "name": "ipython",
    "version": 3
   },
   "file_extension": ".py",
   "mimetype": "text/x-python",
   "name": "python",
   "nbconvert_exporter": "python",
   "pygments_lexer": "ipython3",
   "version": "3.7.2"
  }
 },
 "nbformat": 4,
 "nbformat_minor": 2
}
